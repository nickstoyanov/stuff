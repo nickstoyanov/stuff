{
 "cells": [
  {
   "cell_type": "markdown",
   "metadata": {},
   "source": [
    "<h1><center>Preprocessing</center></h1>"
   ]
  },
  {
   "cell_type": "markdown",
   "metadata": {},
   "source": [
    "В този notebook ще направим лека трансформация на данните преди да преминем към създаването на модел. \n",
    "Dataset-ът се намира тук: \n",
    "https://www.kaggle.com/gyani95/380000-lyrics-from-metrolyrics "
   ]
  },
  {
   "cell_type": "markdown",
   "metadata": {},
   "source": [
    "Нека заредим и разгледаме данните."
   ]
  },
  {
   "cell_type": "code",
   "execution_count": 17,
   "metadata": {},
   "outputs": [],
   "source": [
    "import numpy as np\n",
    "import pandas as pd\n",
    "import cld2\n",
    "import matplotlib.pyplot as plt"
   ]
  },
  {
   "cell_type": "code",
   "execution_count": 9,
   "metadata": {},
   "outputs": [
    {
     "name": "stdout",
     "output_type": "stream",
     "text": [
      "(362237, 6)\n",
      "<class 'pandas.core.frame.DataFrame'>\n",
      "RangeIndex: 362237 entries, 0 to 362236\n",
      "Data columns (total 6 columns):\n",
      "index     362237 non-null int64\n",
      "song      362235 non-null object\n",
      "year      362237 non-null int64\n",
      "artist    362237 non-null object\n",
      "genre     362237 non-null object\n",
      "lyrics    266557 non-null object\n",
      "dtypes: int64(2), object(4)\n",
      "memory usage: 16.6+ MB\n"
     ]
    }
   ],
   "source": [
    "# Dataset\n",
    "dataset = pd.read_csv(\"lyrics.csv\")\n",
    "print(dataset.shape)\n",
    "dataset.info()"
   ]
  },
  {
   "cell_type": "markdown",
   "metadata": {},
   "source": [
    "Очаква се един изпълнител да прави песни главно в един жанр. Колоната year не изглежда много полезна за конкретния проблем (би била полезна за проблем като през коя година какви текстове/думи са по-популярни). Все пак искаме да познаме жанр по-генерално само по текст затова от данните ще оставим само колоните lyrics, genre. "
   ]
  },
  {
   "cell_type": "code",
   "execution_count": 10,
   "metadata": {},
   "outputs": [
    {
     "data": {
      "text/html": [
       "<div>\n",
       "<style scoped>\n",
       "    .dataframe tbody tr th:only-of-type {\n",
       "        vertical-align: middle;\n",
       "    }\n",
       "\n",
       "    .dataframe tbody tr th {\n",
       "        vertical-align: top;\n",
       "    }\n",
       "\n",
       "    .dataframe thead th {\n",
       "        text-align: right;\n",
       "    }\n",
       "</style>\n",
       "<table border=\"1\" class=\"dataframe\">\n",
       "  <thead>\n",
       "    <tr style=\"text-align: right;\">\n",
       "      <th></th>\n",
       "      <th>genre</th>\n",
       "      <th>lyrics</th>\n",
       "    </tr>\n",
       "  </thead>\n",
       "  <tbody>\n",
       "    <tr>\n",
       "      <th>0</th>\n",
       "      <td>Pop</td>\n",
       "      <td>Oh baby, how you doing? You know I'm gonna cut...</td>\n",
       "    </tr>\n",
       "    <tr>\n",
       "      <th>1</th>\n",
       "      <td>Pop</td>\n",
       "      <td>playin' everything so easy, it's like you seem...</td>\n",
       "    </tr>\n",
       "    <tr>\n",
       "      <th>2</th>\n",
       "      <td>Pop</td>\n",
       "      <td>If you search For tenderness It isn't hard to ...</td>\n",
       "    </tr>\n",
       "    <tr>\n",
       "      <th>3</th>\n",
       "      <td>Pop</td>\n",
       "      <td>Oh oh oh I, oh oh oh I [Verse 1:] If I wrote a...</td>\n",
       "    </tr>\n",
       "    <tr>\n",
       "      <th>4</th>\n",
       "      <td>Pop</td>\n",
       "      <td>Party the people, the people the party it's po...</td>\n",
       "    </tr>\n",
       "  </tbody>\n",
       "</table>\n",
       "</div>"
      ],
      "text/plain": [
       "  genre                                             lyrics\n",
       "0   Pop  Oh baby, how you doing? You know I'm gonna cut...\n",
       "1   Pop  playin' everything so easy, it's like you seem...\n",
       "2   Pop  If you search For tenderness It isn't hard to ...\n",
       "3   Pop  Oh oh oh I, oh oh oh I [Verse 1:] If I wrote a...\n",
       "4   Pop  Party the people, the people the party it's po..."
      ]
     },
     "execution_count": 10,
     "metadata": {},
     "output_type": "execute_result"
    }
   ],
   "source": [
    "dataset = dataset.drop(columns=[\"artist\", \"year\", \"song\", \"index\"])\n",
    "dataset[\"lyrics\"] = dataset['lyrics'].str.replace('\\n', ' ')\n",
    "dataset.head()"
   ]
  },
  {
   "cell_type": "markdown",
   "metadata": {},
   "source": [
    "Можем да забележим, че има доста песни, чиито текстове или са празни или подобни на \\[INSTRUMENTAL\\](тоест нямат текст, само музика), или като цяло са много кратки. Затова ще ги премахнем.\n",
    "\n"
   ]
  },
  {
   "cell_type": "code",
   "execution_count": 11,
   "metadata": {},
   "outputs": [
    {
     "name": "stdout",
     "output_type": "stream",
     "text": [
      "New data length: 229298\n"
     ]
    }
   ],
   "source": [
    "dataset['words'] = dataset[\"lyrics\"].apply(lambda s: len(str(s).split()))\n",
    "\n",
    "dataset = dataset[(dataset[\"words\"] >= 100)]\n",
    "new_length = len(dataset)\n",
    "print(\"New data length: \" + str(new_length))"
   ]
  },
  {
   "cell_type": "code",
   "execution_count": 24,
   "metadata": {},
   "outputs": [
    {
     "data": {
      "text/plain": [
       "Text(20, 20, '[148.57]')"
      ]
     },
     "execution_count": 24,
     "metadata": {},
     "output_type": "execute_result"
    },
    {
     "data": {
      "image/png": "[encoded data removed]",
      "text/plain": [
       "<Figure size 1152x720 with 1 Axes>"
      ]
     },
     "metadata": {
      "needs_background": "light"
     },
     "output_type": "display_data"
    }
   ],
   "source": [
    "fig, ax = plt.subplots()\n",
    "fig.set_size_inches(16, 10)\n",
    "\n",
    "n, b, _ = ax.hist(dataset['words'], histtype='stepfilled', bins = 500)\n",
    "\n",
    "bin_max = np.where(n == n.max())\n",
    "peak = b[bin_max]\n",
    "\n",
    "ax.axvline(peak, color='black', linestyle='dashed', linewidth=1)\n",
    "plt.xlim(0, 4000)\n",
    "\n",
    "plt.gca().set_yscale(\"log\")\n",
    "\n",
    "ax.annotate(str(peak), (peak, 16800), xytext=(20, 20), size=15,\n",
    "                    textcoords='offset points',\n",
    "                    bbox={'facecolor':'white'},\n",
    "                    arrowprops={'arrowstyle':'->'})"
   ]
  },
  {
   "cell_type": "code",
   "execution_count": 15,
   "metadata": {},
   "outputs": [
    {
     "name": "stdout",
     "output_type": "stream",
     "text": [
      "Mean of song length: 254.303\n",
      "Median of song length: 211.000\n"
     ]
    }
   ],
   "source": [
    "print(\"Mean of song length: %0.3f\" % np.mean(dataset.words))\n",
    "print(\"Median of song length: %0.3f\" % np.median(dataset.words))"
   ]
  },
  {
   "cell_type": "markdown",
   "metadata": {},
   "source": [
    "Очаквано, песни, които са от жанр хип-хоп и рок са най-дългите."
   ]
  },
  {
   "cell_type": "code",
   "execution_count": 12,
   "metadata": {},
   "outputs": [
    {
     "data": {
      "text/plain": [
       "genre\n",
       "Electronic        1\n",
       "Folk              1\n",
       "Hip-Hop          36\n",
       "Metal             3\n",
       "Not Available     3\n",
       "Other             1\n",
       "Pop               2\n",
       "Rock             22\n",
       "dtype: int64"
      ]
     },
     "execution_count": 12,
     "metadata": {},
     "output_type": "execute_result"
    }
   ],
   "source": [
    "dataset[dataset.words >= 1500].groupby('genre').size()"
   ]
  },
  {
   "cell_type": "code",
   "execution_count": 26,
   "metadata": {},
   "outputs": [
    {
     "data": {
      "text/html": [
       "<div>\n",
       "<style scoped>\n",
       "    .dataframe tbody tr th:only-of-type {\n",
       "        vertical-align: middle;\n",
       "    }\n",
       "\n",
       "    .dataframe tbody tr th {\n",
       "        vertical-align: top;\n",
       "    }\n",
       "\n",
       "    .dataframe thead th {\n",
       "        text-align: right;\n",
       "    }\n",
       "</style>\n",
       "<table border=\"1\" class=\"dataframe\">\n",
       "  <thead>\n",
       "    <tr style=\"text-align: right;\">\n",
       "      <th></th>\n",
       "      <th>genre</th>\n",
       "      <th>lyrics</th>\n",
       "      <th>words</th>\n",
       "    </tr>\n",
       "  </thead>\n",
       "  <tbody>\n",
       "    <tr>\n",
       "      <th>350</th>\n",
       "      <td>Not Available</td>\n",
       "      <td>Santa Claus was scootin'across the roof tops '...</td>\n",
       "      <td>172</td>\n",
       "    </tr>\n",
       "    <tr>\n",
       "      <th>385</th>\n",
       "      <td>Not Available</td>\n",
       "      <td>Ist das so schwer ein kleines Lächeln wenn du ...</td>\n",
       "      <td>109</td>\n",
       "    </tr>\n",
       "    <tr>\n",
       "      <th>386</th>\n",
       "      <td>Not Available</td>\n",
       "      <td>Der Weg den du und ich gegangen führt mit eine...</td>\n",
       "      <td>175</td>\n",
       "    </tr>\n",
       "    <tr>\n",
       "      <th>387</th>\n",
       "      <td>Not Available</td>\n",
       "      <td>Rote Schatten warf das Feuer hell wie Gold war...</td>\n",
       "      <td>114</td>\n",
       "    </tr>\n",
       "    <tr>\n",
       "      <th>388</th>\n",
       "      <td>Not Available</td>\n",
       "      <td>Willst Du mit mir gehn,Wenn mein Weg in Dunkel...</td>\n",
       "      <td>179</td>\n",
       "    </tr>\n",
       "  </tbody>\n",
       "</table>\n",
       "</div>"
      ],
      "text/plain": [
       "             genre                                             lyrics  words\n",
       "350  Not Available  Santa Claus was scootin'across the roof tops '...    172\n",
       "385  Not Available  Ist das so schwer ein kleines Lächeln wenn du ...    109\n",
       "386  Not Available  Der Weg den du und ich gegangen führt mit eine...    175\n",
       "387  Not Available  Rote Schatten warf das Feuer hell wie Gold war...    114\n",
       "388  Not Available  Willst Du mit mir gehn,Wenn mein Weg in Dunkel...    179"
      ]
     },
     "execution_count": 26,
     "metadata": {},
     "output_type": "execute_result"
    }
   ],
   "source": [
    "notavail = dataset[dataset[\"genre\"] == \"Not Available\"]\n",
    "notavail.head()"
   ]
  },
  {
   "cell_type": "markdown",
   "metadata": {},
   "source": [
    "Друго, което трябва да забележим е, че има текстове, които не са на английски език. Те ще вкарат много шум в работата на модела. Пример са някои от текстовете от жанр Not Available. Ще го премахнем.\n",
    "За премахването на останалите текстове не на английски ще изполваме https://pypi.org/project/cld2-cffi/, понеже имаме много данни и изглежда, че има приличен performance."
   ]
  },
  {
   "cell_type": "code",
   "execution_count": 5,
   "metadata": {},
   "outputs": [
    {
     "name": "stdout",
     "output_type": "stream",
     "text": [
      "209345\n"
     ]
    }
   ],
   "source": [
    "dataset = dataset[dataset[\"genre\"] != \"Not Available\"]\n",
    "print(len(dataset))\n",
    "def remove_non_english(dataset):\n",
    "    for index, row in dataset.iterrows():\n",
    "        lyrics = row[\"lyrics\"]\n",
    "        if not(lyrics.isprintable()):\n",
    "            dataset.drop(index=index, inplace=True)\n",
    "            continue\n",
    "            \n",
    "        a, b, details = cld2.detect(lyrics)\n",
    "        \n",
    "        lang = details[0]\n",
    "        if not(lang.language_code == \"en\" and lang.percent > 90):\n",
    "            dataset.drop(index=index, inplace=True)\n",
    "    \n",
    "    return dataset\n",
    "\n",
    "dataset = remove_non_english(dataset)\n",
    "dataset.drop(\"words\", axis=1, inplace=True)\n",
    "dataset.to_csv(\"reduced.csv\")"
   ]
  }
 ],
 "metadata": {
  "kernelspec": {
   "display_name": "Python 3",
   "language": "python",
   "name": "python3"
  },
  "language_info": {
   "codemirror_mode": {
    "name": "ipython",
    "version": 3
   },
   "file_extension": ".py",
   "mimetype": "text/x-python",
   "name": "python",
   "nbconvert_exporter": "python",
   "pygments_lexer": "ipython3",
   "version": "3.7.1"
  }
 },
 "nbformat": 4,
 "nbformat_minor": 2
}
